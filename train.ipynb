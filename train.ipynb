{
 "cells": [
  {
   "cell_type": "code",
   "execution_count": null,
   "metadata": {
    "id": "AJeatFpdySGv"
   },
   "outputs": [],
   "source": []
  },
  {
   "cell_type": "code",
   "execution_count": 1,
   "metadata": {
    "colab": {
     "base_uri": "https://localhost:8080/"
    },
    "executionInfo": {
     "elapsed": 79702,
     "status": "ok",
     "timestamp": 1614568664482,
     "user": {
      "displayName": "Tiềm Đình",
      "photoUrl": "https://lh3.googleusercontent.com/a-/AOh14Gj9iuqo5KWpuCSCDBxTw6g5MFv8u7rahYBEeVvuNQ=s64",
      "userId": "05726324356439983752"
     },
     "user_tz": -420
    },
    "id": "zZIkdWnWyWmp",
    "outputId": "bd663af3-a01e-497b-ba15-c79f04898bf3"
   },
   "outputs": [
    {
     "name": "stdout",
     "output_type": "stream",
     "text": [
      "Mounted at /content/drive\n"
     ]
    }
   ],
   "source": [
    "from google.colab import drive\n",
    "drive.mount('/content/drive')"
   ]
  },
  {
   "cell_type": "code",
   "execution_count": 2,
   "metadata": {
    "executionInfo": {
     "elapsed": 2774,
     "status": "ok",
     "timestamp": 1614568668773,
     "user": {
      "displayName": "Tiềm Đình",
      "photoUrl": "https://lh3.googleusercontent.com/a-/AOh14Gj9iuqo5KWpuCSCDBxTw6g5MFv8u7rahYBEeVvuNQ=s64",
      "userId": "05726324356439983752"
     },
     "user_tz": -420
    },
    "id": "vVFw0V2iNkng"
   },
   "outputs": [],
   "source": [
    "import sys, os  \n",
    "import tensorflow as tf\n",
    "import tensorflow.keras as keras\n",
    "from tensorflow.keras.models import Sequential\n",
    "from tensorflow.keras.preprocessing.image import ImageDataGenerator\n",
    "from tensorflow.keras.layers import Dense, Activation, Flatten, Dropout, BatchNormalization\n",
    "from tensorflow.keras.layers import Conv2D, MaxPooling2D\n",
    "from tensorflow.keras.datasets import cifar10\n",
    "from tensorflow.keras import regularizers, optimizers\n",
    "import numpy as np"
   ]
  },
  {
   "cell_type": "markdown",
   "metadata": {
    "id": "ZBjPIjvuvjjC"
   },
   "source": [
    "Đọc folder ảnh raw và cắt mặt"
   ]
  },
  {
   "cell_type": "code",
   "execution_count": null,
   "metadata": {
    "id": "mu-keAbHvjjC"
   },
   "outputs": [],
   "source": [
    "import cv2\n",
    "import os\n",
    "\n",
    "face_detector = cv2.CascadeClassifier('haarcascade_frontalface_default.xml')\n",
    "\n",
    "folderPaths = ['anger', 'happy', 'neutral', 'sad']\n",
    "count = 0\n",
    "for path in folderPaths:\n",
    "    imagePaths = os.listdir(f\"{path}\")\n",
    "    \n",
    "    for image in imagePaths:\n",
    "        img = cv2.imread(f\"{path}/{image}\")\n",
    "        gray = cv2.cvtColor(img, cv2.COLOR_BGR2GRAY)\n",
    "        faces = face_detector.detectMultiScale(gray, 1.3, 5)\n",
    "\n",
    "        for (x,y,w,h) in faces:\n",
    "\n",
    "            cv2.rectangle(img, (x,y), (x+w,y+h), (255,0,0), 2)     \n",
    "            count += 1\n",
    "\n",
    "            # Save the captured image into the datasets folder\n",
    "            cv2.imwrite(\"dataset/User.\" + path + '.' + str(count) + \".jpg\", gray[y:y+h,x:x+w])"
   ]
  },
  {
   "cell_type": "code",
   "execution_count": null,
   "metadata": {
    "id": "NAGLYEafvjjD"
   },
   "outputs": [],
   "source": []
  },
  {
   "cell_type": "markdown",
   "metadata": {
    "id": "b_zQ7otRObxe"
   },
   "source": [
    "- Sau khi load xong dữ liệu và chia dữ liệu thành training và test thì mình cần xử lý dữ liệu và chuyển y thành dạng category:\n"
   ]
  },
  {
   "cell_type": "code",
   "execution_count": 19,
   "metadata": {
    "executionInfo": {
     "elapsed": 862,
     "status": "ok",
     "timestamp": 1614569268952,
     "user": {
      "displayName": "Tiềm Đình",
      "photoUrl": "https://lh3.googleusercontent.com/a-/AOh14Gj9iuqo5KWpuCSCDBxTw6g5MFv8u7rahYBEeVvuNQ=s64",
      "userId": "05726324356439983752"
     },
     "user_tz": -420
    },
    "id": "KFiHn7tbnhmK"
   },
   "outputs": [],
   "source": [
    "data = np.load(\"/content/drive/MyDrive/RecognitionEmoji/dataset.npz\")"
   ]
  },
  {
   "cell_type": "code",
   "execution_count": 20,
   "metadata": {
    "executionInfo": {
     "elapsed": 759,
     "status": "ok",
     "timestamp": 1614569269336,
     "user": {
      "displayName": "Tiềm Đình",
      "photoUrl": "https://lh3.googleusercontent.com/a-/AOh14Gj9iuqo5KWpuCSCDBxTw6g5MFv8u7rahYBEeVvuNQ=s64",
      "userId": "05726324356439983752"
     },
     "user_tz": -420
    },
    "id": "9NLSYrlFno3x"
   },
   "outputs": [],
   "source": [
    "X = data['X']\n",
    "Y = data['Y']"
   ]
  },
  {
   "cell_type": "code",
   "execution_count": 21,
   "metadata": {
    "colab": {
     "base_uri": "https://localhost:8080/"
    },
    "executionInfo": {
     "elapsed": 630,
     "status": "ok",
     "timestamp": 1614569269790,
     "user": {
      "displayName": "Tiềm Đình",
      "photoUrl": "https://lh3.googleusercontent.com/a-/AOh14Gj9iuqo5KWpuCSCDBxTw6g5MFv8u7rahYBEeVvuNQ=s64",
      "userId": "05726324356439983752"
     },
     "user_tz": -420
    },
    "id": "ay-tIVY4vjjE",
    "outputId": "b5471f8d-4909-47c1-b56c-6680c9451535"
   },
   "outputs": [
    {
     "data": {
      "text/plain": [
       "(1831, 48, 48)"
      ]
     },
     "execution_count": 21,
     "metadata": {
      "tags": []
     },
     "output_type": "execute_result"
    }
   ],
   "source": [
    "X.shape"
   ]
  },
  {
   "cell_type": "code",
   "execution_count": 22,
   "metadata": {
    "executionInfo": {
     "elapsed": 1907,
     "status": "ok",
     "timestamp": 1614569271591,
     "user": {
      "displayName": "Tiềm Đình",
      "photoUrl": "https://lh3.googleusercontent.com/a-/AOh14Gj9iuqo5KWpuCSCDBxTw6g5MFv8u7rahYBEeVvuNQ=s64",
      "userId": "05726324356439983752"
     },
     "user_tz": -420
    },
    "id": "IxmW0E0WvjjF"
   },
   "outputs": [],
   "source": [
    "test = X[0]"
   ]
  },
  {
   "cell_type": "code",
   "execution_count": 23,
   "metadata": {
    "executionInfo": {
     "elapsed": 1576,
     "status": "ok",
     "timestamp": 1614569271594,
     "user": {
      "displayName": "Tiềm Đình",
      "photoUrl": "https://lh3.googleusercontent.com/a-/AOh14Gj9iuqo5KWpuCSCDBxTw6g5MFv8u7rahYBEeVvuNQ=s64",
      "userId": "05726324356439983752"
     },
     "user_tz": -420
    },
    "id": "woVcObWhpDL7"
   },
   "outputs": [],
   "source": [
    "mean = np.mean(X)\n",
    "std  = np.std(X)\n",
    "X = (X-mean)/(std+1e-7)"
   ]
  },
  {
   "cell_type": "code",
   "execution_count": 24,
   "metadata": {
    "executionInfo": {
     "elapsed": 1296,
     "status": "ok",
     "timestamp": 1614569271597,
     "user": {
      "displayName": "Tiềm Đình",
      "photoUrl": "https://lh3.googleusercontent.com/a-/AOh14Gj9iuqo5KWpuCSCDBxTw6g5MFv8u7rahYBEeVvuNQ=s64",
      "userId": "05726324356439983752"
     },
     "user_tz": -420
    },
    "id": "KGmjTRjin54a"
   },
   "outputs": [],
   "source": [
    "split = 0.8\n",
    "sizeData = X.shape[0]"
   ]
  },
  {
   "cell_type": "code",
   "execution_count": 25,
   "metadata": {
    "executionInfo": {
     "elapsed": 2496,
     "status": "ok",
     "timestamp": 1614569273039,
     "user": {
      "displayName": "Tiềm Đình",
      "photoUrl": "https://lh3.googleusercontent.com/a-/AOh14Gj9iuqo5KWpuCSCDBxTw6g5MFv8u7rahYBEeVvuNQ=s64",
      "userId": "05726324356439983752"
     },
     "user_tz": -420
    },
    "id": "Y0u8lkp-ocTb"
   },
   "outputs": [],
   "source": [
    "seed = 113\n",
    "rng = np.random.RandomState(seed) # Dữ nguyên trạng thái random với seed bất kỳ\n",
    "indices = np.arange(sizeData)\n",
    "rng.shuffle(indices)\n",
    "X = X[indices]\n",
    "Y = Y[indices]"
   ]
  },
  {
   "cell_type": "code",
   "execution_count": 26,
   "metadata": {
    "executionInfo": {
     "elapsed": 2252,
     "status": "ok",
     "timestamp": 1614569273042,
     "user": {
      "displayName": "Tiềm Đình",
      "photoUrl": "https://lh3.googleusercontent.com/a-/AOh14Gj9iuqo5KWpuCSCDBxTw6g5MFv8u7rahYBEeVvuNQ=s64",
      "userId": "05726324356439983752"
     },
     "user_tz": -420
    },
    "id": "kk4eqy9-oWRh"
   },
   "outputs": [],
   "source": [
    "# split dataset to test, train\n",
    "split = int(sizeData*split)\n",
    "trainX = X[:split]\n",
    "testX = X[split:]\n",
    "trainY = Y[:split]\n",
    "testY = Y[split:]"
   ]
  },
  {
   "cell_type": "code",
   "execution_count": 27,
   "metadata": {
    "executionInfo": {
     "elapsed": 2030,
     "status": "ok",
     "timestamp": 1614569273044,
     "user": {
      "displayName": "Tiềm Đình",
      "photoUrl": "https://lh3.googleusercontent.com/a-/AOh14Gj9iuqo5KWpuCSCDBxTw6g5MFv8u7rahYBEeVvuNQ=s64",
      "userId": "05726324356439983752"
     },
     "user_tz": -420
    },
    "id": "_Q0Gqe93pixK"
   },
   "outputs": [],
   "source": [
    "num_labels = 4 \n",
    "batch_size = 16 \n",
    "epochs = 100 \n",
    "width, height = 48, 48  \n",
    "\n",
    "\n",
    "trainX = trainX.reshape(trainX.shape[0], 48, 48, 1)  \n",
    "testX = testX.reshape(testX.shape[0], 48, 48, 1)"
   ]
  },
  {
   "cell_type": "code",
   "execution_count": 40,
   "metadata": {
    "colab": {
     "base_uri": "https://localhost:8080/"
    },
    "executionInfo": {
     "elapsed": 741,
     "status": "ok",
     "timestamp": 1614571313246,
     "user": {
      "displayName": "Tiềm Đình",
      "photoUrl": "https://lh3.googleusercontent.com/a-/AOh14Gj9iuqo5KWpuCSCDBxTw6g5MFv8u7rahYBEeVvuNQ=s64",
      "userId": "05726324356439983752"
     },
     "user_tz": -420
    },
    "id": "LHp_VPjqpgsp",
    "outputId": "02a1e814-0a71-4456-d98e-850df4b22241"
   },
   "outputs": [
    {
     "name": "stdout",
     "output_type": "stream",
     "text": [
      "Model: \"sequential_2\"\n",
      "_________________________________________________________________\n",
      "Layer (type)                 Output Shape              Param #   \n",
      "=================================================================\n",
      "conv2d_16 (Conv2D)           (None, 48, 48, 32)        320       \n",
      "_________________________________________________________________\n",
      "batch_normalization_16 (Batc (None, 48, 48, 32)        128       \n",
      "_________________________________________________________________\n",
      "conv2d_17 (Conv2D)           (None, 48, 48, 32)        9248      \n",
      "_________________________________________________________________\n",
      "batch_normalization_17 (Batc (None, 48, 48, 32)        128       \n",
      "_________________________________________________________________\n",
      "max_pooling2d_8 (MaxPooling2 (None, 24, 24, 32)        0         \n",
      "_________________________________________________________________\n",
      "dropout_8 (Dropout)          (None, 24, 24, 32)        0         \n",
      "_________________________________________________________________\n",
      "conv2d_18 (Conv2D)           (None, 24, 24, 64)        18496     \n",
      "_________________________________________________________________\n",
      "batch_normalization_18 (Batc (None, 24, 24, 64)        256       \n",
      "_________________________________________________________________\n",
      "conv2d_19 (Conv2D)           (None, 24, 24, 64)        36928     \n",
      "_________________________________________________________________\n",
      "batch_normalization_19 (Batc (None, 24, 24, 64)        256       \n",
      "_________________________________________________________________\n",
      "max_pooling2d_9 (MaxPooling2 (None, 12, 12, 64)        0         \n",
      "_________________________________________________________________\n",
      "dropout_9 (Dropout)          (None, 12, 12, 64)        0         \n",
      "_________________________________________________________________\n",
      "conv2d_20 (Conv2D)           (None, 12, 12, 128)       73856     \n",
      "_________________________________________________________________\n",
      "batch_normalization_20 (Batc (None, 12, 12, 128)       512       \n",
      "_________________________________________________________________\n",
      "conv2d_21 (Conv2D)           (None, 12, 12, 128)       147584    \n",
      "_________________________________________________________________\n",
      "batch_normalization_21 (Batc (None, 12, 12, 128)       512       \n",
      "_________________________________________________________________\n",
      "max_pooling2d_10 (MaxPooling (None, 6, 6, 128)         0         \n",
      "_________________________________________________________________\n",
      "dropout_10 (Dropout)         (None, 6, 6, 128)         0         \n",
      "_________________________________________________________________\n",
      "conv2d_22 (Conv2D)           (None, 6, 6, 128)         147584    \n",
      "_________________________________________________________________\n",
      "batch_normalization_22 (Batc (None, 6, 6, 128)         512       \n",
      "_________________________________________________________________\n",
      "conv2d_23 (Conv2D)           (None, 6, 6, 128)         147584    \n",
      "_________________________________________________________________\n",
      "batch_normalization_23 (Batc (None, 6, 6, 128)         512       \n",
      "_________________________________________________________________\n",
      "max_pooling2d_11 (MaxPooling (None, 3, 3, 128)         0         \n",
      "_________________________________________________________________\n",
      "dropout_11 (Dropout)         (None, 3, 3, 128)         0         \n",
      "_________________________________________________________________\n",
      "flatten_2 (Flatten)          (None, 1152)              0         \n",
      "_________________________________________________________________\n",
      "dense_4 (Dense)              (None, 128)               147584    \n",
      "_________________________________________________________________\n",
      "dense_5 (Dense)              (None, 4)                 516       \n",
      "=================================================================\n",
      "Total params: 732,516\n",
      "Trainable params: 731,108\n",
      "Non-trainable params: 1,408\n",
      "_________________________________________________________________\n"
     ]
    }
   ],
   "source": [
    "baseMapNum = 32\n",
    "weight_decay = 1e-5\n",
    "\n",
    "model = Sequential()\n",
    "model.add(Conv2D(32, (3,3), padding='same', activation='relu', kernel_initializer='he_uniform', kernel_regularizer=regularizers.l1_l2(weight_decay, weight_decay), input_shape=trainX.shape[1:]))\n",
    "model.add(BatchNormalization())\n",
    "model.add(Conv2D(32, (3,3), padding='same', activation='relu', kernel_initializer='he_uniform', kernel_regularizer=regularizers.l1_l2(weight_decay, weight_decay)))\n",
    "model.add(BatchNormalization())\n",
    "model.add(MaxPooling2D(pool_size=(2,2)))\n",
    "model.add(Dropout(0.3))\n",
    "\n",
    "model.add(Conv2D(64, (3,3), padding='same', activation='relu', kernel_initializer='he_uniform', kernel_regularizer=regularizers.l1_l2(weight_decay, weight_decay)))\n",
    "model.add(BatchNormalization())\n",
    "model.add(Conv2D(64, (3,3), padding='same', activation='relu', kernel_initializer='he_uniform', kernel_regularizer=regularizers.l1_l2(weight_decay, weight_decay)))\n",
    "model.add(BatchNormalization())\n",
    "model.add(MaxPooling2D(pool_size=(2,2)))\n",
    "model.add(Dropout(0.3))\n",
    "\n",
    "model.add(Conv2D(128, (3,3), padding='same', activation='relu', kernel_initializer='he_uniform', kernel_regularizer=regularizers.l1_l2(weight_decay, weight_decay)))\n",
    "model.add(BatchNormalization())\n",
    "model.add(Conv2D(128, (3,3), padding='same', activation='relu', kernel_initializer='he_uniform', kernel_regularizer=regularizers.l1_l2(weight_decay, weight_decay)))\n",
    "model.add(BatchNormalization())\n",
    "model.add(MaxPooling2D(pool_size=(2,2)))\n",
    "model.add(Dropout(0.4))\n",
    "\n",
    "model.add(Conv2D(128, (3,3), padding='same', activation='relu', kernel_initializer='he_uniform', kernel_regularizer=regularizers.l1_l2(weight_decay, weight_decay)))\n",
    "model.add(BatchNormalization())\n",
    "model.add(Conv2D(128, (3,3), padding='same', activation='relu', kernel_initializer='he_uniform', kernel_regularizer=regularizers.l1_l2(weight_decay, weight_decay)))\n",
    "model.add(BatchNormalization())\n",
    "model.add(MaxPooling2D(pool_size=(2,2)))\n",
    "model.add(Dropout(0.4))\n",
    "\n",
    "model.add(Flatten())\n",
    "model.add(Dense(128, activation='relu', kernel_initializer='he_uniform'))\n",
    "model.add(Dense(num_labels, activation='softmax'))\n",
    "\n",
    "model.summary()\n"
   ]
  },
  {
   "cell_type": "markdown",
   "metadata": {
    "id": "y3SW03t4OzRG"
   },
   "source": [
    "- B4: Training mô hình"
   ]
  },
  {
   "cell_type": "code",
   "execution_count": 34,
   "metadata": {
    "executionInfo": {
     "elapsed": 657,
     "status": "ok",
     "timestamp": 1614570176900,
     "user": {
      "displayName": "Tiềm Đình",
      "photoUrl": "https://lh3.googleusercontent.com/a-/AOh14Gj9iuqo5KWpuCSCDBxTw6g5MFv8u7rahYBEeVvuNQ=s64",
      "userId": "05726324356439983752"
     },
     "user_tz": -420
    },
    "id": "JN4jp2vgq38Z"
   },
   "outputs": [],
   "source": [
    "#training\n",
    "batch_size = 256\n",
    "epochs = 300\n",
    "steps = trainX.shape[0] // batch_size\n",
    "\n",
    "boundaries = [steps*50, steps*50]\n",
    "values = [0.002, 0.001, 0.0005]\n",
    "schedules = keras.optimizers.schedules.PiecewiseConstantDecay(boundaries, values)\n",
    "opt_adam  = keras.optimizers.Adam(learning_rate=schedules)"
   ]
  },
  {
   "cell_type": "code",
   "execution_count": 35,
   "metadata": {
    "colab": {
     "base_uri": "https://localhost:8080/"
    },
    "executionInfo": {
     "elapsed": 139181,
     "status": "ok",
     "timestamp": 1614570316895,
     "user": {
      "displayName": "Tiềm Đình",
      "photoUrl": "https://lh3.googleusercontent.com/a-/AOh14Gj9iuqo5KWpuCSCDBxTw6g5MFv8u7rahYBEeVvuNQ=s64",
      "userId": "05726324356439983752"
     },
     "user_tz": -420
    },
    "id": "l5feZlKuOvCb",
    "outputId": "c48b262a-0ba1-4810-d662-8c7c6338415a"
   },
   "outputs": [
    {
     "name": "stdout",
     "output_type": "stream",
     "text": [
      "Epoch 1/300\n",
      "6/6 [==============================] - 2s 128ms/step - loss: 0.9732 - accuracy: 0.7792 - val_loss: 1.2163 - val_accuracy: 0.7711\n",
      "Epoch 2/300\n",
      "6/6 [==============================] - 0s 63ms/step - loss: 0.9875 - accuracy: 0.7268 - val_loss: 1.1617 - val_accuracy: 0.7711\n",
      "Epoch 3/300\n",
      "6/6 [==============================] - 0s 64ms/step - loss: 0.8444 - accuracy: 0.7704 - val_loss: 1.1514 - val_accuracy: 0.7738\n",
      "Epoch 4/300\n",
      "6/6 [==============================] - 0s 64ms/step - loss: 0.7619 - accuracy: 0.8066 - val_loss: 1.0746 - val_accuracy: 0.7711\n",
      "Epoch 5/300\n",
      "6/6 [==============================] - 0s 64ms/step - loss: 0.7947 - accuracy: 0.7873 - val_loss: 1.0744 - val_accuracy: 0.7575\n",
      "Epoch 6/300\n",
      "6/6 [==============================] - 0s 65ms/step - loss: 0.6963 - accuracy: 0.8303 - val_loss: 1.1455 - val_accuracy: 0.7602\n",
      "Epoch 7/300\n",
      "6/6 [==============================] - 0s 63ms/step - loss: 0.7052 - accuracy: 0.8248 - val_loss: 1.0170 - val_accuracy: 0.7575\n",
      "Epoch 8/300\n",
      "6/6 [==============================] - 0s 64ms/step - loss: 0.6852 - accuracy: 0.8227 - val_loss: 1.1128 - val_accuracy: 0.7493\n",
      "Epoch 9/300\n",
      "6/6 [==============================] - 0s 65ms/step - loss: 0.6877 - accuracy: 0.8341 - val_loss: 1.0227 - val_accuracy: 0.7520\n",
      "Epoch 10/300\n",
      "6/6 [==============================] - 0s 64ms/step - loss: 0.6803 - accuracy: 0.8286 - val_loss: 1.0432 - val_accuracy: 0.7793\n",
      "Epoch 11/300\n",
      "6/6 [==============================] - 0s 64ms/step - loss: 0.6502 - accuracy: 0.8537 - val_loss: 1.0868 - val_accuracy: 0.7793\n",
      "Epoch 12/300\n",
      "6/6 [==============================] - 0s 63ms/step - loss: 0.6878 - accuracy: 0.8306 - val_loss: 0.9746 - val_accuracy: 0.7956\n",
      "Epoch 13/300\n",
      "6/6 [==============================] - 0s 65ms/step - loss: 0.6486 - accuracy: 0.8504 - val_loss: 1.0261 - val_accuracy: 0.7902\n",
      "Epoch 14/300\n",
      "6/6 [==============================] - 0s 64ms/step - loss: 0.6692 - accuracy: 0.8411 - val_loss: 1.0265 - val_accuracy: 0.7793\n",
      "Epoch 15/300\n",
      "6/6 [==============================] - 0s 64ms/step - loss: 0.6450 - accuracy: 0.8523 - val_loss: 1.0932 - val_accuracy: 0.7629\n",
      "Epoch 16/300\n",
      "6/6 [==============================] - 0s 64ms/step - loss: 0.6577 - accuracy: 0.8473 - val_loss: 1.0292 - val_accuracy: 0.8147\n",
      "Epoch 17/300\n",
      "6/6 [==============================] - 0s 64ms/step - loss: 0.6487 - accuracy: 0.8486 - val_loss: 0.9878 - val_accuracy: 0.7684\n",
      "Epoch 18/300\n",
      "6/6 [==============================] - 0s 64ms/step - loss: 0.6516 - accuracy: 0.8377 - val_loss: 0.9626 - val_accuracy: 0.8202\n",
      "Epoch 19/300\n",
      "6/6 [==============================] - 0s 65ms/step - loss: 0.6808 - accuracy: 0.8485 - val_loss: 1.0556 - val_accuracy: 0.8093\n",
      "Epoch 20/300\n",
      "6/6 [==============================] - 0s 64ms/step - loss: 0.6132 - accuracy: 0.8723 - val_loss: 0.9749 - val_accuracy: 0.8093\n",
      "Epoch 21/300\n",
      "6/6 [==============================] - 0s 63ms/step - loss: 0.6274 - accuracy: 0.8592 - val_loss: 1.0271 - val_accuracy: 0.8038\n",
      "Epoch 22/300\n",
      "6/6 [==============================] - 0s 64ms/step - loss: 0.6062 - accuracy: 0.8740 - val_loss: 0.8610 - val_accuracy: 0.8283\n",
      "Epoch 23/300\n",
      "6/6 [==============================] - 0s 64ms/step - loss: 0.6017 - accuracy: 0.8687 - val_loss: 1.0660 - val_accuracy: 0.8038\n",
      "Epoch 24/300\n",
      "6/6 [==============================] - 0s 64ms/step - loss: 0.6128 - accuracy: 0.8538 - val_loss: 0.9635 - val_accuracy: 0.8065\n",
      "Epoch 25/300\n",
      "6/6 [==============================] - 0s 65ms/step - loss: 0.6191 - accuracy: 0.8614 - val_loss: 1.0956 - val_accuracy: 0.7984\n",
      "Epoch 26/300\n",
      "6/6 [==============================] - 0s 64ms/step - loss: 0.5560 - accuracy: 0.8919 - val_loss: 1.0622 - val_accuracy: 0.8011\n",
      "Epoch 27/300\n",
      "6/6 [==============================] - 0s 64ms/step - loss: 0.5886 - accuracy: 0.8811 - val_loss: 1.0425 - val_accuracy: 0.7984\n",
      "Epoch 28/300\n",
      "6/6 [==============================] - 0s 65ms/step - loss: 0.5776 - accuracy: 0.8811 - val_loss: 1.1279 - val_accuracy: 0.7766\n",
      "Epoch 29/300\n",
      "6/6 [==============================] - 0s 65ms/step - loss: 0.5716 - accuracy: 0.8744 - val_loss: 0.9819 - val_accuracy: 0.7847\n",
      "Epoch 30/300\n",
      "6/6 [==============================] - 0s 64ms/step - loss: 0.6052 - accuracy: 0.8732 - val_loss: 1.0404 - val_accuracy: 0.7875\n",
      "Epoch 31/300\n",
      "6/6 [==============================] - 0s 64ms/step - loss: 0.5417 - accuracy: 0.8929 - val_loss: 1.0117 - val_accuracy: 0.7956\n",
      "Epoch 32/300\n",
      "6/6 [==============================] - 0s 64ms/step - loss: 0.5576 - accuracy: 0.8814 - val_loss: 1.1215 - val_accuracy: 0.8093\n",
      "Epoch 33/300\n",
      "6/6 [==============================] - 0s 64ms/step - loss: 0.5980 - accuracy: 0.8837 - val_loss: 0.8839 - val_accuracy: 0.8392\n",
      "Epoch 34/300\n",
      "6/6 [==============================] - 0s 64ms/step - loss: 0.5579 - accuracy: 0.8805 - val_loss: 1.0120 - val_accuracy: 0.8229\n",
      "Epoch 35/300\n",
      "6/6 [==============================] - 0s 64ms/step - loss: 0.5722 - accuracy: 0.8804 - val_loss: 0.8918 - val_accuracy: 0.8311\n",
      "Epoch 36/300\n",
      "6/6 [==============================] - 0s 64ms/step - loss: 0.5801 - accuracy: 0.8759 - val_loss: 0.8714 - val_accuracy: 0.8447\n",
      "Epoch 37/300\n",
      "6/6 [==============================] - 0s 64ms/step - loss: 0.5340 - accuracy: 0.9041 - val_loss: 0.9205 - val_accuracy: 0.8256\n",
      "Epoch 38/300\n",
      "6/6 [==============================] - 0s 64ms/step - loss: 0.5519 - accuracy: 0.8849 - val_loss: 0.9870 - val_accuracy: 0.8011\n",
      "Epoch 39/300\n",
      "6/6 [==============================] - 0s 64ms/step - loss: 0.5410 - accuracy: 0.9005 - val_loss: 1.0080 - val_accuracy: 0.8038\n",
      "Epoch 40/300\n",
      "6/6 [==============================] - 0s 63ms/step - loss: 0.5667 - accuracy: 0.8876 - val_loss: 1.0066 - val_accuracy: 0.8283\n",
      "Epoch 41/300\n",
      "6/6 [==============================] - 0s 65ms/step - loss: 0.5904 - accuracy: 0.8718 - val_loss: 1.0305 - val_accuracy: 0.8174\n",
      "Epoch 42/300\n",
      "6/6 [==============================] - 0s 65ms/step - loss: 0.5268 - accuracy: 0.9002 - val_loss: 1.0415 - val_accuracy: 0.8038\n",
      "Epoch 43/300\n",
      "6/6 [==============================] - 0s 64ms/step - loss: 0.5638 - accuracy: 0.8805 - val_loss: 0.9684 - val_accuracy: 0.8202\n",
      "Epoch 44/300\n",
      "6/6 [==============================] - 0s 64ms/step - loss: 0.5277 - accuracy: 0.8972 - val_loss: 0.9279 - val_accuracy: 0.8229\n",
      "Epoch 45/300\n",
      "6/6 [==============================] - 0s 66ms/step - loss: 0.5307 - accuracy: 0.8851 - val_loss: 0.9437 - val_accuracy: 0.8311\n",
      "Epoch 46/300\n",
      "6/6 [==============================] - 0s 65ms/step - loss: 0.4895 - accuracy: 0.9145 - val_loss: 0.9694 - val_accuracy: 0.8174\n",
      "Epoch 47/300\n",
      "6/6 [==============================] - 0s 66ms/step - loss: 0.4539 - accuracy: 0.9338 - val_loss: 0.9582 - val_accuracy: 0.8338\n",
      "Epoch 48/300\n",
      "6/6 [==============================] - 0s 65ms/step - loss: 0.5127 - accuracy: 0.9085 - val_loss: 0.9517 - val_accuracy: 0.8174\n",
      "Epoch 49/300\n",
      "6/6 [==============================] - 0s 65ms/step - loss: 0.4804 - accuracy: 0.9145 - val_loss: 0.9340 - val_accuracy: 0.8174\n",
      "Epoch 50/300\n",
      "6/6 [==============================] - 0s 65ms/step - loss: 0.4697 - accuracy: 0.9235 - val_loss: 0.9238 - val_accuracy: 0.8311\n",
      "Epoch 51/300\n",
      "6/6 [==============================] - 0s 65ms/step - loss: 0.4552 - accuracy: 0.9205 - val_loss: 0.9417 - val_accuracy: 0.8338\n",
      "Epoch 52/300\n",
      "6/6 [==============================] - 0s 65ms/step - loss: 0.4825 - accuracy: 0.9095 - val_loss: 0.9455 - val_accuracy: 0.8365\n",
      "Epoch 53/300\n",
      "6/6 [==============================] - 0s 65ms/step - loss: 0.4614 - accuracy: 0.9235 - val_loss: 0.9759 - val_accuracy: 0.8256\n",
      "Epoch 54/300\n",
      "6/6 [==============================] - 0s 65ms/step - loss: 0.4795 - accuracy: 0.9155 - val_loss: 0.9582 - val_accuracy: 0.8202\n",
      "Epoch 55/300\n",
      "6/6 [==============================] - 0s 65ms/step - loss: 0.4503 - accuracy: 0.9300 - val_loss: 0.9078 - val_accuracy: 0.8365\n",
      "Epoch 56/300\n",
      "6/6 [==============================] - 0s 66ms/step - loss: 0.4613 - accuracy: 0.9187 - val_loss: 0.8735 - val_accuracy: 0.8392\n",
      "Epoch 57/300\n",
      "6/6 [==============================] - 0s 64ms/step - loss: 0.4622 - accuracy: 0.9273 - val_loss: 0.8740 - val_accuracy: 0.8447\n",
      "Epoch 58/300\n",
      "6/6 [==============================] - 0s 65ms/step - loss: 0.4505 - accuracy: 0.9284 - val_loss: 0.8850 - val_accuracy: 0.8420\n",
      "Epoch 59/300\n",
      "6/6 [==============================] - 0s 65ms/step - loss: 0.4935 - accuracy: 0.9095 - val_loss: 0.9015 - val_accuracy: 0.8338\n",
      "Epoch 60/300\n",
      "6/6 [==============================] - 0s 64ms/step - loss: 0.4579 - accuracy: 0.9212 - val_loss: 0.9500 - val_accuracy: 0.8365\n",
      "Epoch 61/300\n",
      "6/6 [==============================] - 0s 65ms/step - loss: 0.4504 - accuracy: 0.9175 - val_loss: 0.9733 - val_accuracy: 0.8338\n",
      "Epoch 62/300\n",
      "6/6 [==============================] - 0s 64ms/step - loss: 0.4469 - accuracy: 0.9387 - val_loss: 0.9569 - val_accuracy: 0.8338\n",
      "Epoch 63/300\n",
      "6/6 [==============================] - 0s 67ms/step - loss: 0.4757 - accuracy: 0.9262 - val_loss: 0.9190 - val_accuracy: 0.8447\n",
      "Epoch 64/300\n",
      "6/6 [==============================] - 0s 65ms/step - loss: 0.4345 - accuracy: 0.9312 - val_loss: 0.9254 - val_accuracy: 0.8501\n",
      "Epoch 65/300\n",
      "6/6 [==============================] - 0s 65ms/step - loss: 0.4507 - accuracy: 0.9358 - val_loss: 0.9358 - val_accuracy: 0.8556\n",
      "Epoch 66/300\n",
      "6/6 [==============================] - 0s 64ms/step - loss: 0.4629 - accuracy: 0.9165 - val_loss: 0.9330 - val_accuracy: 0.8447\n",
      "Epoch 67/300\n",
      "6/6 [==============================] - 0s 66ms/step - loss: 0.4421 - accuracy: 0.9297 - val_loss: 0.9334 - val_accuracy: 0.8392\n",
      "Epoch 68/300\n",
      "6/6 [==============================] - 0s 65ms/step - loss: 0.4303 - accuracy: 0.9317 - val_loss: 0.9507 - val_accuracy: 0.8447\n",
      "Epoch 69/300\n",
      "6/6 [==============================] - 0s 66ms/step - loss: 0.4555 - accuracy: 0.9294 - val_loss: 0.9051 - val_accuracy: 0.8392\n",
      "Epoch 70/300\n",
      "6/6 [==============================] - 0s 65ms/step - loss: 0.4224 - accuracy: 0.9386 - val_loss: 0.8914 - val_accuracy: 0.8501\n",
      "Epoch 71/300\n",
      "6/6 [==============================] - 0s 65ms/step - loss: 0.4617 - accuracy: 0.9239 - val_loss: 0.9170 - val_accuracy: 0.8501\n",
      "Epoch 72/300\n",
      "6/6 [==============================] - 0s 66ms/step - loss: 0.4630 - accuracy: 0.9263 - val_loss: 0.9047 - val_accuracy: 0.8474\n",
      "Epoch 73/300\n",
      "6/6 [==============================] - 0s 66ms/step - loss: 0.4469 - accuracy: 0.9318 - val_loss: 0.9147 - val_accuracy: 0.8420\n",
      "Epoch 74/300\n",
      "6/6 [==============================] - 0s 64ms/step - loss: 0.4473 - accuracy: 0.9269 - val_loss: 0.9179 - val_accuracy: 0.8474\n",
      "Epoch 75/300\n",
      "6/6 [==============================] - 0s 66ms/step - loss: 0.4191 - accuracy: 0.9366 - val_loss: 0.9098 - val_accuracy: 0.8501\n",
      "Epoch 76/300\n",
      "6/6 [==============================] - 0s 65ms/step - loss: 0.4357 - accuracy: 0.9245 - val_loss: 0.9000 - val_accuracy: 0.8583\n",
      "Epoch 77/300\n",
      "6/6 [==============================] - 0s 66ms/step - loss: 0.4188 - accuracy: 0.9310 - val_loss: 0.8979 - val_accuracy: 0.8638\n",
      "Epoch 78/300\n",
      "6/6 [==============================] - 0s 65ms/step - loss: 0.4220 - accuracy: 0.9418 - val_loss: 0.9045 - val_accuracy: 0.8447\n",
      "Epoch 79/300\n",
      "6/6 [==============================] - 0s 64ms/step - loss: 0.4216 - accuracy: 0.9447 - val_loss: 0.8966 - val_accuracy: 0.8474\n",
      "Epoch 80/300\n",
      "6/6 [==============================] - 0s 66ms/step - loss: 0.4356 - accuracy: 0.9234 - val_loss: 0.9097 - val_accuracy: 0.8610\n",
      "Epoch 81/300\n",
      "6/6 [==============================] - 0s 67ms/step - loss: 0.4400 - accuracy: 0.9294 - val_loss: 0.9346 - val_accuracy: 0.8501\n",
      "Epoch 82/300\n",
      "6/6 [==============================] - 0s 66ms/step - loss: 0.4297 - accuracy: 0.9329 - val_loss: 0.9114 - val_accuracy: 0.8501\n",
      "Epoch 83/300\n",
      "6/6 [==============================] - 0s 66ms/step - loss: 0.4000 - accuracy: 0.9434 - val_loss: 0.9144 - val_accuracy: 0.8447\n",
      "Epoch 84/300\n",
      "6/6 [==============================] - 0s 66ms/step - loss: 0.4170 - accuracy: 0.9469 - val_loss: 0.9214 - val_accuracy: 0.8420\n",
      "Epoch 85/300\n",
      "6/6 [==============================] - 0s 65ms/step - loss: 0.4096 - accuracy: 0.9389 - val_loss: 0.9117 - val_accuracy: 0.8311\n",
      "Epoch 86/300\n",
      "6/6 [==============================] - 0s 67ms/step - loss: 0.4225 - accuracy: 0.9368 - val_loss: 0.9241 - val_accuracy: 0.8447\n",
      "Epoch 87/300\n",
      "6/6 [==============================] - 0s 65ms/step - loss: 0.4222 - accuracy: 0.9394 - val_loss: 0.9207 - val_accuracy: 0.8529\n",
      "Epoch 88/300\n",
      "6/6 [==============================] - 0s 65ms/step - loss: 0.4244 - accuracy: 0.9331 - val_loss: 0.9217 - val_accuracy: 0.8529\n",
      "Epoch 89/300\n",
      "6/6 [==============================] - 0s 66ms/step - loss: 0.3979 - accuracy: 0.9419 - val_loss: 0.9096 - val_accuracy: 0.8501\n",
      "Epoch 90/300\n",
      "6/6 [==============================] - 0s 67ms/step - loss: 0.4226 - accuracy: 0.9345 - val_loss: 0.9092 - val_accuracy: 0.8610\n",
      "Epoch 91/300\n",
      "6/6 [==============================] - 0s 66ms/step - loss: 0.4072 - accuracy: 0.9362 - val_loss: 0.9141 - val_accuracy: 0.8583\n",
      "Epoch 92/300\n",
      "6/6 [==============================] - 0s 64ms/step - loss: 0.4683 - accuracy: 0.9279 - val_loss: 0.9352 - val_accuracy: 0.8447\n",
      "Epoch 93/300\n",
      "6/6 [==============================] - 0s 65ms/step - loss: 0.4155 - accuracy: 0.9436 - val_loss: 0.9617 - val_accuracy: 0.8529\n",
      "Epoch 94/300\n",
      "6/6 [==============================] - 0s 66ms/step - loss: 0.3806 - accuracy: 0.9567 - val_loss: 0.9564 - val_accuracy: 0.8610\n",
      "Epoch 95/300\n",
      "6/6 [==============================] - 0s 65ms/step - loss: 0.4158 - accuracy: 0.9351 - val_loss: 0.9237 - val_accuracy: 0.8474\n",
      "Epoch 96/300\n",
      "6/6 [==============================] - 0s 66ms/step - loss: 0.4276 - accuracy: 0.9359 - val_loss: 0.9245 - val_accuracy: 0.8474\n",
      "Epoch 97/300\n",
      "6/6 [==============================] - 0s 65ms/step - loss: 0.4129 - accuracy: 0.9392 - val_loss: 0.9267 - val_accuracy: 0.8447\n",
      "Epoch 98/300\n",
      "6/6 [==============================] - 0s 66ms/step - loss: 0.4215 - accuracy: 0.9332 - val_loss: 0.9452 - val_accuracy: 0.8501\n",
      "Epoch 99/300\n",
      "6/6 [==============================] - 0s 66ms/step - loss: 0.4219 - accuracy: 0.9384 - val_loss: 0.9170 - val_accuracy: 0.8583\n",
      "Epoch 100/300\n",
      "6/6 [==============================] - 0s 68ms/step - loss: 0.4355 - accuracy: 0.9346 - val_loss: 0.9255 - val_accuracy: 0.8610\n",
      "Epoch 101/300\n",
      "6/6 [==============================] - 0s 66ms/step - loss: 0.4226 - accuracy: 0.9386 - val_loss: 0.9468 - val_accuracy: 0.8501\n",
      "Epoch 102/300\n",
      "6/6 [==============================] - 0s 66ms/step - loss: 0.4043 - accuracy: 0.9455 - val_loss: 0.9617 - val_accuracy: 0.8447\n",
      "Epoch 103/300\n",
      "6/6 [==============================] - 0s 66ms/step - loss: 0.4018 - accuracy: 0.9332 - val_loss: 0.9377 - val_accuracy: 0.8420\n",
      "Epoch 104/300\n",
      "6/6 [==============================] - 0s 67ms/step - loss: 0.3929 - accuracy: 0.9452 - val_loss: 0.9294 - val_accuracy: 0.8447\n",
      "Epoch 105/300\n",
      "6/6 [==============================] - 0s 67ms/step - loss: 0.4085 - accuracy: 0.9338 - val_loss: 0.9135 - val_accuracy: 0.8583\n",
      "Epoch 106/300\n",
      "6/6 [==============================] - 0s 67ms/step - loss: 0.4165 - accuracy: 0.9413 - val_loss: 0.9123 - val_accuracy: 0.8610\n",
      "Epoch 107/300\n",
      "6/6 [==============================] - 0s 66ms/step - loss: 0.4174 - accuracy: 0.9328 - val_loss: 0.9614 - val_accuracy: 0.8474\n",
      "Epoch 108/300\n",
      "6/6 [==============================] - 0s 67ms/step - loss: 0.4299 - accuracy: 0.9433 - val_loss: 0.9649 - val_accuracy: 0.8420\n",
      "Epoch 109/300\n",
      "6/6 [==============================] - 0s 67ms/step - loss: 0.4157 - accuracy: 0.9372 - val_loss: 0.9397 - val_accuracy: 0.8474\n",
      "Epoch 110/300\n",
      "6/6 [==============================] - 0s 65ms/step - loss: 0.4057 - accuracy: 0.9358 - val_loss: 0.9544 - val_accuracy: 0.8447\n",
      "Epoch 111/300\n",
      "6/6 [==============================] - 0s 65ms/step - loss: 0.3850 - accuracy: 0.9478 - val_loss: 0.9682 - val_accuracy: 0.8392\n",
      "Epoch 112/300\n",
      "6/6 [==============================] - 0s 67ms/step - loss: 0.4435 - accuracy: 0.9201 - val_loss: 0.9841 - val_accuracy: 0.8447\n",
      "Epoch 113/300\n",
      "6/6 [==============================] - 0s 66ms/step - loss: 0.3903 - accuracy: 0.9410 - val_loss: 0.9446 - val_accuracy: 0.8692\n",
      "Epoch 114/300\n",
      "6/6 [==============================] - 0s 66ms/step - loss: 0.4247 - accuracy: 0.9275 - val_loss: 0.9173 - val_accuracy: 0.8501\n",
      "Epoch 115/300\n",
      "6/6 [==============================] - 0s 66ms/step - loss: 0.3924 - accuracy: 0.9518 - val_loss: 0.9247 - val_accuracy: 0.8474\n",
      "Epoch 116/300\n",
      "6/6 [==============================] - 0s 67ms/step - loss: 0.4052 - accuracy: 0.9384 - val_loss: 0.9603 - val_accuracy: 0.8665\n",
      "Epoch 117/300\n",
      "6/6 [==============================] - 0s 67ms/step - loss: 0.3829 - accuracy: 0.9491 - val_loss: 0.9556 - val_accuracy: 0.8420\n",
      "Epoch 118/300\n",
      "6/6 [==============================] - 0s 66ms/step - loss: 0.4079 - accuracy: 0.9418 - val_loss: 0.9154 - val_accuracy: 0.8665\n",
      "Epoch 119/300\n",
      "6/6 [==============================] - 0s 67ms/step - loss: 0.3882 - accuracy: 0.9497 - val_loss: 0.9566 - val_accuracy: 0.8501\n",
      "Epoch 120/300\n",
      "6/6 [==============================] - 0s 67ms/step - loss: 0.4112 - accuracy: 0.9437 - val_loss: 0.9944 - val_accuracy: 0.8501\n",
      "Epoch 121/300\n",
      "6/6 [==============================] - 0s 66ms/step - loss: 0.3939 - accuracy: 0.9508 - val_loss: 0.9644 - val_accuracy: 0.8447\n",
      "Epoch 122/300\n",
      "6/6 [==============================] - 0s 66ms/step - loss: 0.4124 - accuracy: 0.9339 - val_loss: 0.9743 - val_accuracy: 0.8501\n",
      "Epoch 123/300\n",
      "6/6 [==============================] - 0s 67ms/step - loss: 0.4005 - accuracy: 0.9451 - val_loss: 0.9893 - val_accuracy: 0.8474\n",
      "Epoch 124/300\n",
      "6/6 [==============================] - 0s 67ms/step - loss: 0.3757 - accuracy: 0.9549 - val_loss: 0.9872 - val_accuracy: 0.8529\n",
      "Epoch 125/300\n",
      "6/6 [==============================] - 0s 66ms/step - loss: 0.4220 - accuracy: 0.9361 - val_loss: 0.9797 - val_accuracy: 0.8474\n",
      "Epoch 126/300\n",
      "6/6 [==============================] - 0s 66ms/step - loss: 0.3766 - accuracy: 0.9510 - val_loss: 0.9561 - val_accuracy: 0.8529\n",
      "Epoch 127/300\n",
      "6/6 [==============================] - 0s 66ms/step - loss: 0.4087 - accuracy: 0.9401 - val_loss: 0.9220 - val_accuracy: 0.8583\n",
      "Epoch 128/300\n",
      "6/6 [==============================] - 0s 68ms/step - loss: 0.3851 - accuracy: 0.9486 - val_loss: 0.9330 - val_accuracy: 0.8556\n",
      "Epoch 129/300\n",
      "6/6 [==============================] - 0s 68ms/step - loss: 0.4077 - accuracy: 0.9406 - val_loss: 0.9610 - val_accuracy: 0.8529\n",
      "Epoch 130/300\n",
      "6/6 [==============================] - 0s 66ms/step - loss: 0.3877 - accuracy: 0.9489 - val_loss: 0.9642 - val_accuracy: 0.8474\n",
      "Epoch 131/300\n",
      "6/6 [==============================] - 0s 67ms/step - loss: 0.3899 - accuracy: 0.9563 - val_loss: 0.9257 - val_accuracy: 0.8529\n",
      "Epoch 132/300\n",
      "6/6 [==============================] - 0s 66ms/step - loss: 0.4275 - accuracy: 0.9337 - val_loss: 0.9520 - val_accuracy: 0.8610\n",
      "Epoch 133/300\n",
      "6/6 [==============================] - 0s 67ms/step - loss: 0.3847 - accuracy: 0.9440 - val_loss: 0.9849 - val_accuracy: 0.8447\n",
      "Epoch 134/300\n",
      "6/6 [==============================] - 0s 66ms/step - loss: 0.3874 - accuracy: 0.9589 - val_loss: 0.9535 - val_accuracy: 0.8529\n",
      "Epoch 135/300\n",
      "6/6 [==============================] - 0s 67ms/step - loss: 0.3875 - accuracy: 0.9471 - val_loss: 0.9407 - val_accuracy: 0.8556\n",
      "Epoch 136/300\n",
      "6/6 [==============================] - 0s 67ms/step - loss: 0.3973 - accuracy: 0.9407 - val_loss: 0.9426 - val_accuracy: 0.8474\n",
      "Epoch 137/300\n",
      "6/6 [==============================] - 0s 66ms/step - loss: 0.3849 - accuracy: 0.9448 - val_loss: 0.9525 - val_accuracy: 0.8529\n",
      "Epoch 138/300\n",
      "6/6 [==============================] - 0s 68ms/step - loss: 0.3886 - accuracy: 0.9435 - val_loss: 0.9394 - val_accuracy: 0.8638\n",
      "Epoch 139/300\n",
      "6/6 [==============================] - 0s 66ms/step - loss: 0.3992 - accuracy: 0.9437 - val_loss: 1.0032 - val_accuracy: 0.8392\n",
      "Epoch 140/300\n",
      "6/6 [==============================] - 0s 67ms/step - loss: 0.3902 - accuracy: 0.9457 - val_loss: 0.9900 - val_accuracy: 0.8529\n",
      "Epoch 141/300\n",
      "6/6 [==============================] - 0s 67ms/step - loss: 0.3678 - accuracy: 0.9539 - val_loss: 0.9769 - val_accuracy: 0.8583\n",
      "Epoch 142/300\n",
      "6/6 [==============================] - 0s 67ms/step - loss: 0.3836 - accuracy: 0.9524 - val_loss: 0.9881 - val_accuracy: 0.8529\n",
      "Epoch 143/300\n",
      "6/6 [==============================] - 0s 67ms/step - loss: 0.3829 - accuracy: 0.9494 - val_loss: 1.0447 - val_accuracy: 0.8420\n",
      "Epoch 144/300\n",
      "6/6 [==============================] - 0s 66ms/step - loss: 0.3815 - accuracy: 0.9560 - val_loss: 1.0259 - val_accuracy: 0.8392\n",
      "Epoch 145/300\n",
      "6/6 [==============================] - 0s 67ms/step - loss: 0.3829 - accuracy: 0.9480 - val_loss: 0.9786 - val_accuracy: 0.8529\n",
      "Epoch 146/300\n",
      "6/6 [==============================] - 0s 67ms/step - loss: 0.4075 - accuracy: 0.9322 - val_loss: 0.9487 - val_accuracy: 0.8610\n",
      "Epoch 147/300\n",
      "6/6 [==============================] - 0s 68ms/step - loss: 0.3824 - accuracy: 0.9481 - val_loss: 0.9825 - val_accuracy: 0.8556\n",
      "Epoch 148/300\n",
      "6/6 [==============================] - 0s 68ms/step - loss: 0.3904 - accuracy: 0.9513 - val_loss: 0.9969 - val_accuracy: 0.8474\n",
      "Epoch 149/300\n",
      "6/6 [==============================] - 0s 66ms/step - loss: 0.3532 - accuracy: 0.9642 - val_loss: 0.9995 - val_accuracy: 0.8501\n",
      "Epoch 150/300\n",
      "6/6 [==============================] - 0s 67ms/step - loss: 0.3864 - accuracy: 0.9409 - val_loss: 0.9966 - val_accuracy: 0.8501\n",
      "Epoch 151/300\n",
      "6/6 [==============================] - 0s 69ms/step - loss: 0.3777 - accuracy: 0.9483 - val_loss: 1.0336 - val_accuracy: 0.8365\n",
      "Epoch 152/300\n",
      "6/6 [==============================] - 0s 66ms/step - loss: 0.3743 - accuracy: 0.9519 - val_loss: 1.0722 - val_accuracy: 0.8583\n",
      "Epoch 153/300\n",
      "6/6 [==============================] - 0s 68ms/step - loss: 0.3554 - accuracy: 0.9666 - val_loss: 1.0338 - val_accuracy: 0.8529\n",
      "Epoch 154/300\n",
      "6/6 [==============================] - 0s 67ms/step - loss: 0.3843 - accuracy: 0.9496 - val_loss: 0.9894 - val_accuracy: 0.8665\n",
      "Epoch 155/300\n",
      "6/6 [==============================] - 0s 67ms/step - loss: 0.3746 - accuracy: 0.9498 - val_loss: 0.9707 - val_accuracy: 0.8610\n",
      "Epoch 156/300\n",
      "6/6 [==============================] - 0s 68ms/step - loss: 0.3681 - accuracy: 0.9522 - val_loss: 1.0415 - val_accuracy: 0.8311\n",
      "Epoch 157/300\n",
      "6/6 [==============================] - 0s 66ms/step - loss: 0.3811 - accuracy: 0.9413 - val_loss: 1.0802 - val_accuracy: 0.8256\n",
      "Epoch 158/300\n",
      "6/6 [==============================] - 0s 66ms/step - loss: 0.3924 - accuracy: 0.9417 - val_loss: 0.9702 - val_accuracy: 0.8556\n",
      "Epoch 159/300\n",
      "6/6 [==============================] - 0s 68ms/step - loss: 0.3870 - accuracy: 0.9458 - val_loss: 0.9674 - val_accuracy: 0.8747\n",
      "Epoch 160/300\n",
      "6/6 [==============================] - 0s 67ms/step - loss: 0.3678 - accuracy: 0.9506 - val_loss: 0.9894 - val_accuracy: 0.8583\n",
      "Epoch 161/300\n",
      "6/6 [==============================] - 0s 67ms/step - loss: 0.3604 - accuracy: 0.9630 - val_loss: 1.0035 - val_accuracy: 0.8665\n",
      "Epoch 162/300\n",
      "6/6 [==============================] - 0s 67ms/step - loss: 0.3747 - accuracy: 0.9558 - val_loss: 1.0531 - val_accuracy: 0.8638\n",
      "Epoch 163/300\n",
      "6/6 [==============================] - 0s 68ms/step - loss: 0.3588 - accuracy: 0.9563 - val_loss: 1.0936 - val_accuracy: 0.8447\n",
      "Epoch 164/300\n",
      "6/6 [==============================] - 0s 67ms/step - loss: 0.3721 - accuracy: 0.9490 - val_loss: 1.0366 - val_accuracy: 0.8583\n",
      "Epoch 165/300\n",
      "6/6 [==============================] - 0s 67ms/step - loss: 0.3503 - accuracy: 0.9662 - val_loss: 0.9905 - val_accuracy: 0.8638\n",
      "Epoch 166/300\n",
      "6/6 [==============================] - 0s 67ms/step - loss: 0.3814 - accuracy: 0.9466 - val_loss: 1.0070 - val_accuracy: 0.8529\n",
      "Epoch 167/300\n",
      "6/6 [==============================] - 0s 66ms/step - loss: 0.3563 - accuracy: 0.9611 - val_loss: 1.0058 - val_accuracy: 0.8529\n",
      "Epoch 168/300\n",
      "6/6 [==============================] - 0s 69ms/step - loss: 0.3554 - accuracy: 0.9581 - val_loss: 1.0173 - val_accuracy: 0.8447\n",
      "Epoch 169/300\n",
      "6/6 [==============================] - 0s 66ms/step - loss: 0.3835 - accuracy: 0.9499 - val_loss: 1.0045 - val_accuracy: 0.8556\n",
      "Epoch 170/300\n",
      "6/6 [==============================] - 0s 67ms/step - loss: 0.3430 - accuracy: 0.9566 - val_loss: 1.0105 - val_accuracy: 0.8638\n",
      "Epoch 171/300\n",
      "6/6 [==============================] - 0s 68ms/step - loss: 0.3700 - accuracy: 0.9529 - val_loss: 1.0329 - val_accuracy: 0.8583\n",
      "Epoch 172/300\n",
      "6/6 [==============================] - 0s 67ms/step - loss: 0.3873 - accuracy: 0.9438 - val_loss: 0.9914 - val_accuracy: 0.8556\n",
      "Epoch 173/300\n",
      "6/6 [==============================] - 0s 69ms/step - loss: 0.3737 - accuracy: 0.9570 - val_loss: 0.9560 - val_accuracy: 0.8556\n",
      "Epoch 174/300\n",
      "6/6 [==============================] - 0s 70ms/step - loss: 0.3471 - accuracy: 0.9613 - val_loss: 0.9701 - val_accuracy: 0.8610\n",
      "Epoch 175/300\n",
      "6/6 [==============================] - 0s 68ms/step - loss: 0.3454 - accuracy: 0.9571 - val_loss: 0.9813 - val_accuracy: 0.8638\n",
      "Epoch 176/300\n",
      "6/6 [==============================] - 0s 66ms/step - loss: 0.3709 - accuracy: 0.9555 - val_loss: 0.9794 - val_accuracy: 0.8610\n",
      "Epoch 177/300\n",
      "6/6 [==============================] - 0s 67ms/step - loss: 0.3670 - accuracy: 0.9499 - val_loss: 0.9606 - val_accuracy: 0.8638\n",
      "Epoch 178/300\n",
      "6/6 [==============================] - 0s 67ms/step - loss: 0.3790 - accuracy: 0.9466 - val_loss: 1.0089 - val_accuracy: 0.8311\n",
      "Epoch 179/300\n",
      "6/6 [==============================] - 0s 69ms/step - loss: 0.3788 - accuracy: 0.9508 - val_loss: 1.0020 - val_accuracy: 0.8447\n",
      "Epoch 180/300\n",
      "6/6 [==============================] - 0s 68ms/step - loss: 0.3709 - accuracy: 0.9457 - val_loss: 0.9500 - val_accuracy: 0.8529\n",
      "Epoch 181/300\n",
      "6/6 [==============================] - 0s 69ms/step - loss: 0.3777 - accuracy: 0.9509 - val_loss: 0.9473 - val_accuracy: 0.8529\n",
      "Epoch 182/300\n",
      "6/6 [==============================] - 0s 67ms/step - loss: 0.3587 - accuracy: 0.9598 - val_loss: 0.9669 - val_accuracy: 0.8583\n",
      "Epoch 183/300\n",
      "6/6 [==============================] - 0s 70ms/step - loss: 0.3658 - accuracy: 0.9542 - val_loss: 0.9509 - val_accuracy: 0.8665\n",
      "Epoch 184/300\n",
      "6/6 [==============================] - 0s 68ms/step - loss: 0.3754 - accuracy: 0.9556 - val_loss: 0.9884 - val_accuracy: 0.8665\n",
      "Epoch 185/300\n",
      "6/6 [==============================] - 0s 68ms/step - loss: 0.3794 - accuracy: 0.9382 - val_loss: 0.9884 - val_accuracy: 0.8556\n",
      "Epoch 186/300\n",
      "6/6 [==============================] - 0s 70ms/step - loss: 0.3658 - accuracy: 0.9599 - val_loss: 1.0075 - val_accuracy: 0.8610\n",
      "Epoch 187/300\n",
      "6/6 [==============================] - 0s 69ms/step - loss: 0.3434 - accuracy: 0.9694 - val_loss: 0.9921 - val_accuracy: 0.8610\n",
      "Epoch 188/300\n",
      "6/6 [==============================] - 0s 67ms/step - loss: 0.3815 - accuracy: 0.9476 - val_loss: 0.9775 - val_accuracy: 0.8529\n",
      "Epoch 189/300\n",
      "6/6 [==============================] - 0s 68ms/step - loss: 0.3564 - accuracy: 0.9601 - val_loss: 0.9641 - val_accuracy: 0.8665\n",
      "Epoch 190/300\n",
      "6/6 [==============================] - 0s 68ms/step - loss: 0.3688 - accuracy: 0.9564 - val_loss: 1.0192 - val_accuracy: 0.8610\n",
      "Epoch 191/300\n",
      "6/6 [==============================] - 0s 68ms/step - loss: 0.3612 - accuracy: 0.9566 - val_loss: 1.0454 - val_accuracy: 0.8474\n",
      "Epoch 192/300\n",
      "6/6 [==============================] - 0s 68ms/step - loss: 0.3714 - accuracy: 0.9471 - val_loss: 1.0550 - val_accuracy: 0.8392\n",
      "Epoch 193/300\n",
      "6/6 [==============================] - 0s 69ms/step - loss: 0.3946 - accuracy: 0.9362 - val_loss: 1.0335 - val_accuracy: 0.8638\n",
      "Epoch 194/300\n",
      "6/6 [==============================] - 0s 69ms/step - loss: 0.3669 - accuracy: 0.9581 - val_loss: 1.0531 - val_accuracy: 0.8610\n",
      "Epoch 195/300\n",
      "6/6 [==============================] - 0s 68ms/step - loss: 0.3246 - accuracy: 0.9705 - val_loss: 1.0659 - val_accuracy: 0.8556\n",
      "Epoch 196/300\n",
      "6/6 [==============================] - 0s 68ms/step - loss: 0.3639 - accuracy: 0.9564 - val_loss: 1.0449 - val_accuracy: 0.8501\n",
      "Epoch 197/300\n",
      "6/6 [==============================] - 0s 69ms/step - loss: 0.3389 - accuracy: 0.9655 - val_loss: 1.0114 - val_accuracy: 0.8501\n",
      "Epoch 198/300\n",
      "6/6 [==============================] - 0s 67ms/step - loss: 0.3382 - accuracy: 0.9666 - val_loss: 1.0049 - val_accuracy: 0.8474\n",
      "Epoch 199/300\n",
      "6/6 [==============================] - 0s 70ms/step - loss: 0.3575 - accuracy: 0.9570 - val_loss: 1.0194 - val_accuracy: 0.8501\n",
      "Epoch 200/300\n",
      "6/6 [==============================] - 0s 67ms/step - loss: 0.3551 - accuracy: 0.9567 - val_loss: 1.0380 - val_accuracy: 0.8420\n",
      "Epoch 201/300\n",
      "6/6 [==============================] - 0s 68ms/step - loss: 0.3437 - accuracy: 0.9601 - val_loss: 1.0386 - val_accuracy: 0.8392\n",
      "Epoch 202/300\n",
      "6/6 [==============================] - 0s 66ms/step - loss: 0.3692 - accuracy: 0.9481 - val_loss: 1.0199 - val_accuracy: 0.8529\n",
      "Epoch 203/300\n",
      "6/6 [==============================] - 0s 69ms/step - loss: 0.3254 - accuracy: 0.9704 - val_loss: 1.0444 - val_accuracy: 0.8474\n",
      "Epoch 204/300\n",
      "6/6 [==============================] - 0s 70ms/step - loss: 0.3763 - accuracy: 0.9539 - val_loss: 1.1470 - val_accuracy: 0.8283\n",
      "Epoch 205/300\n",
      "6/6 [==============================] - 0s 69ms/step - loss: 0.3461 - accuracy: 0.9666 - val_loss: 1.1406 - val_accuracy: 0.8365\n",
      "Epoch 206/300\n",
      "6/6 [==============================] - 0s 68ms/step - loss: 0.3423 - accuracy: 0.9617 - val_loss: 1.1089 - val_accuracy: 0.8420\n",
      "Epoch 207/300\n",
      "6/6 [==============================] - 0s 67ms/step - loss: 0.3418 - accuracy: 0.9631 - val_loss: 1.1175 - val_accuracy: 0.8420\n",
      "Epoch 208/300\n",
      "6/6 [==============================] - 0s 68ms/step - loss: 0.3424 - accuracy: 0.9635 - val_loss: 1.1237 - val_accuracy: 0.8420\n",
      "Epoch 209/300\n",
      "6/6 [==============================] - 0s 69ms/step - loss: 0.3478 - accuracy: 0.9597 - val_loss: 1.1471 - val_accuracy: 0.8392\n",
      "Epoch 210/300\n",
      "6/6 [==============================] - 0s 69ms/step - loss: 0.3675 - accuracy: 0.9545 - val_loss: 1.1094 - val_accuracy: 0.8365\n",
      "Epoch 211/300\n",
      "6/6 [==============================] - 0s 68ms/step - loss: 0.3554 - accuracy: 0.9519 - val_loss: 1.0489 - val_accuracy: 0.8529\n",
      "Epoch 212/300\n",
      "6/6 [==============================] - 0s 67ms/step - loss: 0.3434 - accuracy: 0.9621 - val_loss: 1.0493 - val_accuracy: 0.8474\n",
      "Epoch 213/300\n",
      "6/6 [==============================] - 0s 70ms/step - loss: 0.3314 - accuracy: 0.9666 - val_loss: 1.0710 - val_accuracy: 0.8392\n",
      "Epoch 214/300\n",
      "6/6 [==============================] - 0s 68ms/step - loss: 0.3496 - accuracy: 0.9599 - val_loss: 1.0364 - val_accuracy: 0.8501\n",
      "Epoch 215/300\n",
      "6/6 [==============================] - 0s 68ms/step - loss: 0.3492 - accuracy: 0.9535 - val_loss: 1.0185 - val_accuracy: 0.8529\n",
      "Epoch 216/300\n",
      "6/6 [==============================] - 0s 69ms/step - loss: 0.3234 - accuracy: 0.9624 - val_loss: 1.0129 - val_accuracy: 0.8610\n",
      "Epoch 217/300\n",
      "6/6 [==============================] - 0s 68ms/step - loss: 0.3374 - accuracy: 0.9637 - val_loss: 1.0866 - val_accuracy: 0.8529\n",
      "Epoch 218/300\n",
      "6/6 [==============================] - 0s 69ms/step - loss: 0.3232 - accuracy: 0.9710 - val_loss: 1.0688 - val_accuracy: 0.8501\n",
      "Epoch 219/300\n",
      "6/6 [==============================] - 0s 70ms/step - loss: 0.3535 - accuracy: 0.9588 - val_loss: 1.0715 - val_accuracy: 0.8501\n",
      "Epoch 220/300\n",
      "6/6 [==============================] - 0s 67ms/step - loss: 0.3552 - accuracy: 0.9534 - val_loss: 1.0583 - val_accuracy: 0.8392\n",
      "Epoch 221/300\n",
      "6/6 [==============================] - 0s 70ms/step - loss: 0.3255 - accuracy: 0.9666 - val_loss: 1.0106 - val_accuracy: 0.8447\n",
      "Epoch 222/300\n",
      "6/6 [==============================] - 0s 69ms/step - loss: 0.3738 - accuracy: 0.9523 - val_loss: 1.0025 - val_accuracy: 0.8420\n",
      "Epoch 223/300\n",
      "6/6 [==============================] - 0s 67ms/step - loss: 0.3652 - accuracy: 0.9601 - val_loss: 1.0394 - val_accuracy: 0.8474\n",
      "Epoch 224/300\n",
      "6/6 [==============================] - 0s 69ms/step - loss: 0.3299 - accuracy: 0.9637 - val_loss: 1.0878 - val_accuracy: 0.8501\n",
      "Epoch 225/300\n",
      "6/6 [==============================] - 0s 70ms/step - loss: 0.3289 - accuracy: 0.9623 - val_loss: 1.0860 - val_accuracy: 0.8420\n",
      "Epoch 226/300\n",
      "6/6 [==============================] - 0s 67ms/step - loss: 0.3327 - accuracy: 0.9670 - val_loss: 1.0829 - val_accuracy: 0.8501\n",
      "Epoch 227/300\n",
      "6/6 [==============================] - 0s 69ms/step - loss: 0.3565 - accuracy: 0.9494 - val_loss: 1.0619 - val_accuracy: 0.8501\n",
      "Epoch 228/300\n",
      "6/6 [==============================] - 0s 68ms/step - loss: 0.3487 - accuracy: 0.9640 - val_loss: 1.0531 - val_accuracy: 0.8583\n",
      "Epoch 229/300\n",
      "6/6 [==============================] - 0s 69ms/step - loss: 0.3467 - accuracy: 0.9564 - val_loss: 1.0728 - val_accuracy: 0.8474\n",
      "Epoch 230/300\n",
      "6/6 [==============================] - 0s 70ms/step - loss: 0.3270 - accuracy: 0.9707 - val_loss: 1.0767 - val_accuracy: 0.8501\n",
      "Epoch 231/300\n",
      "6/6 [==============================] - 0s 68ms/step - loss: 0.3268 - accuracy: 0.9649 - val_loss: 1.0747 - val_accuracy: 0.8447\n",
      "Epoch 232/300\n",
      "6/6 [==============================] - 0s 70ms/step - loss: 0.3263 - accuracy: 0.9636 - val_loss: 1.0007 - val_accuracy: 0.8474\n",
      "Epoch 233/300\n",
      "6/6 [==============================] - 0s 68ms/step - loss: 0.3604 - accuracy: 0.9498 - val_loss: 1.0116 - val_accuracy: 0.8447\n",
      "Epoch 234/300\n",
      "6/6 [==============================] - 0s 69ms/step - loss: 0.3519 - accuracy: 0.9571 - val_loss: 1.0562 - val_accuracy: 0.8420\n",
      "Epoch 235/300\n",
      "6/6 [==============================] - 0s 70ms/step - loss: 0.3407 - accuracy: 0.9621 - val_loss: 1.0527 - val_accuracy: 0.8420\n",
      "Epoch 236/300\n",
      "6/6 [==============================] - 0s 69ms/step - loss: 0.3614 - accuracy: 0.9527 - val_loss: 1.0440 - val_accuracy: 0.8501\n",
      "Epoch 237/300\n",
      "6/6 [==============================] - 0s 69ms/step - loss: 0.3578 - accuracy: 0.9521 - val_loss: 1.0404 - val_accuracy: 0.8665\n",
      "Epoch 238/300\n",
      "6/6 [==============================] - 0s 69ms/step - loss: 0.3457 - accuracy: 0.9537 - val_loss: 1.0583 - val_accuracy: 0.8583\n",
      "Epoch 239/300\n",
      "6/6 [==============================] - 0s 68ms/step - loss: 0.3712 - accuracy: 0.9536 - val_loss: 1.0360 - val_accuracy: 0.8610\n",
      "Epoch 240/300\n",
      "6/6 [==============================] - 0s 70ms/step - loss: 0.3313 - accuracy: 0.9660 - val_loss: 1.0181 - val_accuracy: 0.8719\n",
      "Epoch 241/300\n",
      "6/6 [==============================] - 0s 68ms/step - loss: 0.3331 - accuracy: 0.9655 - val_loss: 1.0174 - val_accuracy: 0.8501\n",
      "Epoch 242/300\n",
      "6/6 [==============================] - 0s 69ms/step - loss: 0.3266 - accuracy: 0.9591 - val_loss: 1.0676 - val_accuracy: 0.8392\n",
      "Epoch 243/300\n",
      "6/6 [==============================] - 0s 67ms/step - loss: 0.3482 - accuracy: 0.9555 - val_loss: 1.0688 - val_accuracy: 0.8501\n",
      "Epoch 244/300\n",
      "6/6 [==============================] - 0s 69ms/step - loss: 0.3494 - accuracy: 0.9540 - val_loss: 1.0900 - val_accuracy: 0.8311\n",
      "Epoch 245/300\n",
      "6/6 [==============================] - 0s 70ms/step - loss: 0.3912 - accuracy: 0.9434 - val_loss: 1.0243 - val_accuracy: 0.8392\n",
      "Epoch 246/300\n",
      "6/6 [==============================] - 0s 69ms/step - loss: 0.3483 - accuracy: 0.9591 - val_loss: 1.0165 - val_accuracy: 0.8529\n",
      "Epoch 247/300\n",
      "6/6 [==============================] - 0s 70ms/step - loss: 0.3638 - accuracy: 0.9502 - val_loss: 1.0440 - val_accuracy: 0.8365\n",
      "Epoch 248/300\n",
      "6/6 [==============================] - 0s 69ms/step - loss: 0.3263 - accuracy: 0.9649 - val_loss: 1.0625 - val_accuracy: 0.8420\n",
      "Epoch 249/300\n",
      "6/6 [==============================] - 0s 70ms/step - loss: 0.3508 - accuracy: 0.9571 - val_loss: 1.0184 - val_accuracy: 0.8610\n",
      "Epoch 250/300\n",
      "6/6 [==============================] - 0s 70ms/step - loss: 0.3232 - accuracy: 0.9665 - val_loss: 0.9732 - val_accuracy: 0.8610\n",
      "Epoch 251/300\n",
      "6/6 [==============================] - 0s 68ms/step - loss: 0.3174 - accuracy: 0.9734 - val_loss: 0.9893 - val_accuracy: 0.8638\n",
      "Epoch 252/300\n",
      "6/6 [==============================] - 0s 69ms/step - loss: 0.3542 - accuracy: 0.9556 - val_loss: 1.0313 - val_accuracy: 0.8447\n",
      "Epoch 253/300\n",
      "6/6 [==============================] - 0s 68ms/step - loss: 0.3408 - accuracy: 0.9596 - val_loss: 1.0361 - val_accuracy: 0.8474\n",
      "Epoch 254/300\n",
      "6/6 [==============================] - 0s 69ms/step - loss: 0.3213 - accuracy: 0.9676 - val_loss: 0.9779 - val_accuracy: 0.8529\n",
      "Epoch 255/300\n",
      "6/6 [==============================] - 0s 68ms/step - loss: 0.3325 - accuracy: 0.9637 - val_loss: 0.9722 - val_accuracy: 0.8583\n",
      "Epoch 256/300\n",
      "6/6 [==============================] - 0s 69ms/step - loss: 0.3360 - accuracy: 0.9630 - val_loss: 1.0046 - val_accuracy: 0.8474\n",
      "Epoch 257/300\n",
      "6/6 [==============================] - 0s 70ms/step - loss: 0.3413 - accuracy: 0.9591 - val_loss: 1.0455 - val_accuracy: 0.8474\n",
      "Epoch 258/300\n",
      "6/6 [==============================] - 0s 70ms/step - loss: 0.3148 - accuracy: 0.9718 - val_loss: 1.0218 - val_accuracy: 0.8501\n",
      "Epoch 259/300\n",
      "6/6 [==============================] - 0s 69ms/step - loss: 0.3111 - accuracy: 0.9743 - val_loss: 1.0061 - val_accuracy: 0.8392\n",
      "Epoch 260/300\n",
      "6/6 [==============================] - 0s 70ms/step - loss: 0.3216 - accuracy: 0.9711 - val_loss: 0.9953 - val_accuracy: 0.8474\n",
      "Epoch 261/300\n",
      "6/6 [==============================] - 0s 70ms/step - loss: 0.3353 - accuracy: 0.9581 - val_loss: 1.0021 - val_accuracy: 0.8420\n",
      "Epoch 262/300\n",
      "6/6 [==============================] - 0s 69ms/step - loss: 0.3393 - accuracy: 0.9587 - val_loss: 1.0078 - val_accuracy: 0.8529\n",
      "Epoch 263/300\n",
      "6/6 [==============================] - 0s 69ms/step - loss: 0.3458 - accuracy: 0.9545 - val_loss: 1.0399 - val_accuracy: 0.8420\n",
      "Epoch 264/300\n",
      "6/6 [==============================] - 0s 70ms/step - loss: 0.3168 - accuracy: 0.9758 - val_loss: 0.9602 - val_accuracy: 0.8638\n",
      "Epoch 265/300\n",
      "6/6 [==============================] - 0s 70ms/step - loss: 0.3221 - accuracy: 0.9684 - val_loss: 0.9442 - val_accuracy: 0.8665\n",
      "Epoch 266/300\n",
      "6/6 [==============================] - 0s 69ms/step - loss: 0.3128 - accuracy: 0.9713 - val_loss: 0.9780 - val_accuracy: 0.8474\n",
      "Epoch 267/300\n",
      "6/6 [==============================] - 0s 69ms/step - loss: 0.3373 - accuracy: 0.9615 - val_loss: 0.9920 - val_accuracy: 0.8447\n",
      "Epoch 268/300\n",
      "6/6 [==============================] - 0s 69ms/step - loss: 0.3261 - accuracy: 0.9674 - val_loss: 1.0263 - val_accuracy: 0.8447\n",
      "Epoch 269/300\n",
      "6/6 [==============================] - 0s 70ms/step - loss: 0.3398 - accuracy: 0.9615 - val_loss: 1.0182 - val_accuracy: 0.8501\n",
      "Epoch 270/300\n",
      "6/6 [==============================] - 0s 71ms/step - loss: 0.3163 - accuracy: 0.9675 - val_loss: 1.0411 - val_accuracy: 0.8474\n",
      "Epoch 271/300\n",
      "6/6 [==============================] - 0s 69ms/step - loss: 0.3492 - accuracy: 0.9526 - val_loss: 1.0491 - val_accuracy: 0.8447\n",
      "Epoch 272/300\n",
      "6/6 [==============================] - 0s 68ms/step - loss: 0.3438 - accuracy: 0.9609 - val_loss: 1.0188 - val_accuracy: 0.8638\n",
      "Epoch 273/300\n",
      "6/6 [==============================] - 0s 70ms/step - loss: 0.3312 - accuracy: 0.9647 - val_loss: 1.0383 - val_accuracy: 0.8529\n",
      "Epoch 274/300\n",
      "6/6 [==============================] - 0s 69ms/step - loss: 0.3209 - accuracy: 0.9708 - val_loss: 1.0823 - val_accuracy: 0.8529\n",
      "Epoch 275/300\n",
      "6/6 [==============================] - 0s 68ms/step - loss: 0.3237 - accuracy: 0.9583 - val_loss: 1.0913 - val_accuracy: 0.8529\n",
      "Epoch 276/300\n",
      "6/6 [==============================] - 0s 68ms/step - loss: 0.3200 - accuracy: 0.9647 - val_loss: 1.0187 - val_accuracy: 0.8501\n",
      "Epoch 277/300\n",
      "6/6 [==============================] - 0s 69ms/step - loss: 0.3162 - accuracy: 0.9741 - val_loss: 0.9954 - val_accuracy: 0.8501\n",
      "Epoch 278/300\n",
      "6/6 [==============================] - 0s 69ms/step - loss: 0.3207 - accuracy: 0.9686 - val_loss: 1.0298 - val_accuracy: 0.8447\n",
      "Epoch 279/300\n",
      "6/6 [==============================] - 0s 68ms/step - loss: 0.3267 - accuracy: 0.9647 - val_loss: 1.0230 - val_accuracy: 0.8474\n",
      "Epoch 280/300\n",
      "6/6 [==============================] - 0s 70ms/step - loss: 0.3038 - accuracy: 0.9741 - val_loss: 1.0282 - val_accuracy: 0.8474\n",
      "Epoch 281/300\n",
      "6/6 [==============================] - 0s 69ms/step - loss: 0.3616 - accuracy: 0.9608 - val_loss: 1.0382 - val_accuracy: 0.8501\n",
      "Epoch 282/300\n",
      "6/6 [==============================] - 0s 69ms/step - loss: 0.3208 - accuracy: 0.9682 - val_loss: 0.9992 - val_accuracy: 0.8529\n",
      "Epoch 283/300\n",
      "6/6 [==============================] - 0s 68ms/step - loss: 0.3030 - accuracy: 0.9639 - val_loss: 0.9861 - val_accuracy: 0.8474\n",
      "Epoch 284/300\n",
      "6/6 [==============================] - 0s 69ms/step - loss: 0.3166 - accuracy: 0.9676 - val_loss: 1.0638 - val_accuracy: 0.8420\n",
      "Epoch 285/300\n",
      "6/6 [==============================] - 0s 69ms/step - loss: 0.3411 - accuracy: 0.9614 - val_loss: 1.0172 - val_accuracy: 0.8420\n",
      "Epoch 286/300\n",
      "6/6 [==============================] - 0s 71ms/step - loss: 0.3298 - accuracy: 0.9594 - val_loss: 1.0385 - val_accuracy: 0.8501\n",
      "Epoch 287/300\n",
      "6/6 [==============================] - 0s 70ms/step - loss: 0.3125 - accuracy: 0.9692 - val_loss: 1.0604 - val_accuracy: 0.8501\n",
      "Epoch 288/300\n",
      "6/6 [==============================] - 0s 69ms/step - loss: 0.3336 - accuracy: 0.9593 - val_loss: 1.0412 - val_accuracy: 0.8474\n",
      "Epoch 289/300\n",
      "6/6 [==============================] - 0s 70ms/step - loss: 0.3326 - accuracy: 0.9635 - val_loss: 1.0361 - val_accuracy: 0.8501\n",
      "Epoch 290/300\n",
      "6/6 [==============================] - 0s 69ms/step - loss: 0.3232 - accuracy: 0.9673 - val_loss: 1.0221 - val_accuracy: 0.8583\n",
      "Epoch 291/300\n",
      "6/6 [==============================] - 0s 68ms/step - loss: 0.3129 - accuracy: 0.9687 - val_loss: 1.0211 - val_accuracy: 0.8529\n",
      "Epoch 292/300\n",
      "6/6 [==============================] - 0s 70ms/step - loss: 0.3409 - accuracy: 0.9662 - val_loss: 1.0039 - val_accuracy: 0.8556\n",
      "Epoch 293/300\n",
      "6/6 [==============================] - 0s 69ms/step - loss: 0.3133 - accuracy: 0.9713 - val_loss: 0.9451 - val_accuracy: 0.8665\n",
      "Epoch 294/300\n",
      "6/6 [==============================] - 0s 69ms/step - loss: 0.3204 - accuracy: 0.9730 - val_loss: 0.9602 - val_accuracy: 0.8474\n",
      "Epoch 295/300\n",
      "6/6 [==============================] - 0s 70ms/step - loss: 0.3310 - accuracy: 0.9621 - val_loss: 0.9925 - val_accuracy: 0.8638\n",
      "Epoch 296/300\n",
      "6/6 [==============================] - 0s 68ms/step - loss: 0.3102 - accuracy: 0.9710 - val_loss: 1.0389 - val_accuracy: 0.8501\n",
      "Epoch 297/300\n",
      "6/6 [==============================] - 0s 69ms/step - loss: 0.3121 - accuracy: 0.9675 - val_loss: 0.9845 - val_accuracy: 0.8583\n",
      "Epoch 298/300\n",
      "6/6 [==============================] - 0s 70ms/step - loss: 0.3211 - accuracy: 0.9677 - val_loss: 0.9779 - val_accuracy: 0.8447\n",
      "Epoch 299/300\n",
      "6/6 [==============================] - 0s 70ms/step - loss: 0.3328 - accuracy: 0.9623 - val_loss: 1.0239 - val_accuracy: 0.8529\n",
      "Epoch 300/300\n",
      "6/6 [==============================] - 0s 68ms/step - loss: 0.3069 - accuracy: 0.9713 - val_loss: 1.0190 - val_accuracy: 0.8501\n"
     ]
    }
   ],
   "source": [
    "# data augmentation\n",
    "train_dataset = tf.data.Dataset.from_tensor_slices((trainX, trainY))\n",
    "test_dataset  = tf.data.Dataset.from_tensor_slices((testX, testY))\n",
    "\n",
    "def process_data(image, label):\n",
    "    \n",
    "    if tf.random.uniform(()) > 0.5:\n",
    "        image = tf.image.random_crop(image, size=[30, 30, 1])\n",
    "        image = tf.image.resize(image, (48, 48))\n",
    "\n",
    "    if tf.random.uniform(()) > 0.5:\n",
    "        image = tf.image.flip_left_right(image)\n",
    "\n",
    "    if tf.random.uniform(()) > 0.5:\n",
    "        image = tf.image.random_brightness(image, 0.2)\n",
    "    \n",
    "\n",
    "    return image, label\n",
    "\n",
    "train_batches = (train_dataset.shuffle(256*4)\n",
    "                              .map(process_data, num_parallel_calls=tf.data.experimental.AUTOTUNE)\n",
    "                              .batch(batch_size)\n",
    "                              .prefetch(tf.data.experimental.AUTOTUNE) )\n",
    "\n",
    "test_dataset = (test_dataset.batch(batch_size))\n",
    "\n",
    "model.compile(loss='sparse_categorical_crossentropy', optimizer=opt_adam, metrics=['accuracy'])\n",
    "history = model.fit(train_batches, validation_data=test_dataset, epochs=epochs, verbose=1)"
   ]
  },
  {
   "cell_type": "code",
   "execution_count": 36,
   "metadata": {
    "colab": {
     "base_uri": "https://localhost:8080/",
     "height": 282
    },
    "executionInfo": {
     "elapsed": 990,
     "status": "ok",
     "timestamp": 1614570341510,
     "user": {
      "displayName": "Tiềm Đình",
      "photoUrl": "https://lh3.googleusercontent.com/a-/AOh14Gj9iuqo5KWpuCSCDBxTw6g5MFv8u7rahYBEeVvuNQ=s64",
      "userId": "05726324356439983752"
     },
     "user_tz": -420
    },
    "id": "rcBSV161riMa",
    "outputId": "3f7fb841-a044-4292-9545-98e11d6c6fde"
   },
   "outputs": [
    {
     "data": {
      "text/plain": [
       "<matplotlib.legend.Legend at 0x7f6d94bcb890>"
      ]
     },
     "execution_count": 36,
     "metadata": {
      "tags": []
     },
     "output_type": "execute_result"
    },
    {
     "data": {
      "image/png": "[encoded data removed]",
      "text/plain": [
       "<Figure size 432x288 with 1 Axes>"
      ]
     },
     "metadata": {
      "needs_background": "light",
      "tags": []
     },
     "output_type": "display_data"
    }
   ],
   "source": [
    "import matplotlib.pyplot as plt\n",
    "plt.plot(history.history['loss'], label='Train loss')\n",
    "plt.plot(history.history['val_loss'], label = 'Validation val_loss')\n",
    "plt.legend()\n"
   ]
  },
  {
   "cell_type": "code",
   "execution_count": 37,
   "metadata": {
    "colab": {
     "base_uri": "https://localhost:8080/",
     "height": 282
    },
    "executionInfo": {
     "elapsed": 1018,
     "status": "ok",
     "timestamp": 1614570352272,
     "user": {
      "displayName": "Tiềm Đình",
      "photoUrl": "https://lh3.googleusercontent.com/a-/AOh14Gj9iuqo5KWpuCSCDBxTw6g5MFv8u7rahYBEeVvuNQ=s64",
      "userId": "05726324356439983752"
     },
     "user_tz": -420
    },
    "id": "TktRA6i9rlbK",
    "outputId": "c00b877b-b992-44b8-bd84-30faa5a5b636"
   },
   "outputs": [
    {
     "data": {
      "text/plain": [
       "<matplotlib.legend.Legend at 0x7f6da349b790>"
      ]
     },
     "execution_count": 37,
     "metadata": {
      "tags": []
     },
     "output_type": "execute_result"
    },
    {
     "data": {
      "image/png": "[encoded data removed]",
      "text/plain": [
       "<Figure size 432x288 with 1 Axes>"
      ]
     },
     "metadata": {
      "needs_background": "light",
      "tags": []
     },
     "output_type": "display_data"
    }
   ],
   "source": [
    "plt.plot(history.history['accuracy'], label='train accuracy')\n",
    "plt.plot(history.history['val_accuracy'], label='Validation accuracy')\n",
    "plt.legend()"
   ]
  },
  {
   "cell_type": "code",
   "execution_count": 39,
   "metadata": {
    "executionInfo": {
     "elapsed": 2400,
     "status": "ok",
     "timestamp": 1614570426239,
     "user": {
      "displayName": "Tiềm Đình",
      "photoUrl": "https://lh3.googleusercontent.com/a-/AOh14Gj9iuqo5KWpuCSCDBxTw6g5MFv8u7rahYBEeVvuNQ=s64",
      "userId": "05726324356439983752"
     },
     "user_tz": -420
    },
    "id": "liev1qPWXhtj"
   },
   "outputs": [],
   "source": [
    "#Các bạn thảo luận kĩ hơn về các kĩ thuật training mô hình để tránh overfitting.overfitting.\n",
    "#Saving the  model \n",
    "fer_json = model.to_json()  \n",
    "with open(\"fer.json\", \"w\") as json_file:\n",
    "    json_file.write(fer_json)  \n",
    "model.save_weights(\"fer.h5\")"
   ]
  },
  {
   "cell_type": "code",
   "execution_count": null,
   "metadata": {
    "id": "KHn31qCVsCUe"
   },
   "outputs": [],
   "source": []
  }
 ],
 "metadata": {
  "accelerator": "GPU",
  "colab": {
   "collapsed_sections": [],
   "name": "train.ipynb",
   "provenance": []
  },
  "kernelspec": {
   "display_name": "Python 3",
   "language": "python",
   "name": "python3"
  },
  "language_info": {
   "codemirror_mode": {
    "name": "ipython",
    "version": 3
   },
   "file_extension": ".py",
   "mimetype": "text/x-python",
   "name": "python",
   "nbconvert_exporter": "python",
   "pygments_lexer": "ipython3",
   "version": "3.7.9"
  }
 },
 "nbformat": 4,
 "nbformat_minor": 1
}
